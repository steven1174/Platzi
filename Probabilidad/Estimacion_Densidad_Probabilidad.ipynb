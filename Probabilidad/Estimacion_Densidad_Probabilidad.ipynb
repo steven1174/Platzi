{
  "nbformat": 4,
  "nbformat_minor": 0,
  "metadata": {
    "colab": {
      "provenance": [],
      "collapsed_sections": [],
      "include_colab_link": true
    },
    "kernelspec": {
      "name": "python3",
      "display_name": "Python 3"
    }
  },
  "cells": [
    {
      "cell_type": "markdown",
      "metadata": {
        "id": "view-in-github",
        "colab_type": "text"
      },
      "source": [
        "<a href=\"https://colab.research.google.com/github/steven1174/Platzi/blob/main/Probabilidad/Estimacion_Densidad_Probabilidad.ipynb\" target=\"_parent\"><img src=\"https://colab.research.google.com/assets/colab-badge.svg\" alt=\"Open In Colab\"/></a>"
      ]
    },
    {
      "cell_type": "code",
      "metadata": {
        "id": "fQ_FYZP1HAZn"
      },
      "source": [
        "import numpy as np\n",
        "import matplotlib.pyplot as plt\n",
        "from numpy.random import normal\n",
        "from scipy.stats import norm"
      ],
      "execution_count": null,
      "outputs": []
    },
    {
      "cell_type": "code",
      "metadata": {
        "id": "3K9Zno_vHWM_",
        "outputId": "79927374-1a8a-49f0-8cd1-811cf44ea2ed",
        "colab": {
          "base_uri": "https://localhost:8080/",
          "height": 265
        }
      },
      "source": [
        "sample = normal(size=10000) # generador aleatorio basado en la distribución normal\n",
        "plt.hist(sample, bins=30) \n",
        "plt.show()"
      ],
      "execution_count": null,
      "outputs": [
        {
          "output_type": "display_data",
          "data": {
            "text/plain": [
              "<Figure size 432x288 with 1 Axes>"
            ],
            "image/png": "[encoded data removed]"
          },
          "metadata": {
            "needs_background": "light"
          }
        }
      ]
    },
    {
      "cell_type": "markdown",
      "metadata": {
        "id": "h5cuw05oH2E7"
      },
      "source": [
        "## Estimación paramétrica"
      ]
    },
    {
      "cell_type": "code",
      "metadata": {
        "id": "M4jq92dZHY7X",
        "outputId": "e0ade1dc-ae74-4dfc-d8fa-395a795b8888",
        "colab": {
          "base_uri": "https://localhost:8080/",
          "height": 265
        }
      },
      "source": [
        "sample = normal(loc=50, scale=5, size=10000) # mu = 50, sigma = 5\n",
        "mu = sample.mean()\n",
        "sigma = sample.std()\n",
        "dist = norm(mu, sigma)\n",
        "values = [value for value in range(30, 70)]\n",
        "probabilities = [dist.pdf(value) for value in values]\n",
        "\n",
        "plt.hist(sample, bins=30, density=True)\n",
        "plt.plot(values, probabilities)\n",
        "plt.show()"
      ],
      "execution_count": null,
      "outputs": [
        {
          "output_type": "display_data",
          "data": {
            "text/plain": [
              "<Figure size 432x288 with 1 Axes>"
            ],
            "image/png": "[encoded data removed]"
          },
          "metadata": {
            "needs_background": "light"
          }
        }
      ]
    },
    {
      "cell_type": "markdown",
      "metadata": {
        "id": "yufGLB8qJEb0"
      },
      "source": [
        "# Estimación no paramétrica\n",
        "\n",
        "`Kernel Density estimation` \n",
        "* [parámetro de suavizado]: smoothing parameter \n",
        "* [función base]: basis function\n",
        "\n",
        "https://scikit-learn.org/stable/modules/density.html\n"
      ]
    },
    {
      "cell_type": "code",
      "source": [
        "sample.shape"
      ],
      "metadata": {
        "id": "_IqY6e21EHov",
        "outputId": "8bab3a12-944a-4f6a-8c73-672f327184d1",
        "colab": {
          "base_uri": "https://localhost:8080/"
        }
      },
      "execution_count": null,
      "outputs": [
        {
          "output_type": "execute_result",
          "data": {
            "text/plain": [
              "(1000, 1)"
            ]
          },
          "metadata": {},
          "execution_count": 20
        }
      ]
    },
    {
      "cell_type": "code",
      "metadata": {
        "id": "AU7_H7lpIDKv",
        "outputId": "67645a98-416f-4866-9ab4-79b94d9fb07c",
        "colab": {
          "base_uri": "https://localhost:8080/",
          "height": 266
        }
      },
      "source": [
        "from numpy import hstack\n",
        "from sklearn.neighbors import KernelDensity\n",
        "\n",
        "#construimos una distribución bimodal\n",
        "sample1 = normal(loc=20, scale=5, size=300)\n",
        "sample2 = normal(loc=40, scale=5, size=700)\n",
        "sample = hstack((sample1, sample2))\n",
        "\n",
        "model = KernelDensity(bandwidth=2, kernel='gaussian')\n",
        "sample = sample.reshape((len(sample), 1))\n",
        "model.fit(sample)\n",
        "\n",
        "values = np.asarray([value for value in range(1, 60)])\n",
        "values = values.reshape((len(values), 1))\n",
        "probabilities = model.score_samples(values) #probabilidad logarítmica\n",
        "probabilities = np.exp(probabilities)  # inversión de probabilidad\n",
        "\n",
        "pyplot.hist(sample, bins=50, density=True) \n",
        "pyplot.plot(values[:], probabilities)\n",
        "pyplot.show()"
      ],
      "execution_count": null,
      "outputs": [
        {
          "output_type": "display_data",
          "data": {
            "text/plain": [
              "<Figure size 432x288 with 1 Axes>"
            ],
            "image/png": "[encoded data removed]"
          },
          "metadata": {
            "needs_background": "light"
          }
        }
      ]
    }
  ]
}